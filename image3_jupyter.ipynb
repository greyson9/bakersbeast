{
 "cells": [
  {
   "cell_type": "code",
   "execution_count": 1,
   "metadata": {
    "collapsed": false
   },
   "outputs": [
    {
     "name": "stderr",
     "output_type": "stream",
     "text": [
      "/usr/local/lib/python2.7/site-packages/skimage/viewer/__init__.py:6: UserWarning: Viewer requires Qt\n",
      "  warn('Viewer requires Qt')\n"
     ]
    },
    {
     "name": "stdout",
     "output_type": "stream",
     "text": [
      "[[ 0.13608302  0.10744779  0.08577433 ...,  0.00893209  0.00748719\n",
      "   0.00656771]\n",
      " [ 0.13529489  0.10849862  0.08538027 ...,  0.00866938  0.0077499\n",
      "   0.00696178]\n",
      " [ 0.13148562  0.10429528  0.0832786  ...,  0.00814396  0.00814396\n",
      "   0.00788126]\n",
      " ..., \n",
      " [ 0.01313543  0.01182188  0.01444897 ...,  0.13989229  0.13529489\n",
      "   0.12990937]\n",
      " [ 0.01077105  0.01195324  0.01339813 ...,  0.11217654  0.11033758\n",
      "   0.10902404]\n",
      " [ 0.01169053  0.01261001  0.01760147 ...,  0.09339288  0.08997767\n",
      "   0.08827006]]\n"
     ]
    }
   ],
   "source": [
    "from skimage import data, io, filters\n",
    "from skimage.viewer import ImageViewer\n",
    "from skimage.color import (rgb_from_hdx, hdx_from_rgb, rgb_from_gdx)\n",
    "import skimage\n",
    "import matplotlib.cm as cm\n",
    "import matplotlib.pyplot as plt\n",
    "import nd2reader\n",
    "import numpy as np\n",
    "\n",
    "#Charlotte's segmentation code\n",
    "from skimage.morphology import watershed, disk\n",
    "from skimage.filters import sobel\n",
    "from skimage import exposure\n",
    "from skimage import transform as tf\n",
    "from skimage.segmentation import slic, join_segmentations\n",
    "from scipy import fftpack\n",
    "from skimage.filters.rank import median\n",
    "from scipy import ndimage as ndi\n",
    "\n",
    "nd2 = nd2reader.Nd2(\"/Users/student/documents/pubs/images/Plate000_WellC01_Seq0000.nd2\")\n",
    "\n",
    "#Channels\n",
    "#nd2[0].channel = DAPI\n",
    "#nd2[1].channel = FITC\n",
    "#nd2[2].channel = FITClong\n",
    "#nd2[3].channel = CY3\n",
    "#nd2[4].channel = BF3-Cy3\n",
    "\n",
    "#make subplots - WORKS\n",
    "fig = plt.figure()\n",
    "\n",
    "for i, image in enumerate(nd2.select(channels=\"FITC\")):\n",
    "  \tplt.subplot(2,3,i+1)\n",
    "  \tplt.imshow(image)\n",
    "\n",
    "plt.show()\n",
    "\n",
    "#make img_as_float - WORKS\n",
    "nd2_0 = np.asarray(nd2[0])\n",
    "nd2_0 = nd2_0.astype(np.float64)\n",
    "nd2_0_min = nd2_0 - np.amin(nd2_0)\n",
    "nd2_0_float = nd2_0_min/np.amax(nd2_0_min) #maximum from subtracted min array\n",
    "\n",
    "print(nd2_0_float)\n",
    "plt.imshow(nd2_0_float)\n",
    "#plt.show()\n",
    "\n",
    "def segment_image(photo_matrix, background_threshold, foreground_threshold):\n",
    "\tedges = sobel(photo_matrix)\n",
    "\tmarkers = np.zeros_like(photo_matrix)\n",
    "\tforeground, background = 1, 2\n",
    "\tmarkers[photo_matrix < background_threshold] = background\n",
    "\tmarkers[photo_matrix > foreground_threshold] = foreground\n",
    "\tws = watershed(edges, markers)\n",
    "\tsegmentation_matrix = ndi.label(ws == foreground)[0]\n",
    "\treturn segmentation_matrix\n",
    "\n",
    "#print nd2_0_float\n",
    "nd2_0_seg = segment_image(nd2_0_float, .99, .2)\n",
    "#plt.imshow(nd2_0_seg)\n",
    "#plt.show()\n",
    "\n",
    "#use osu threshold! instead of sobel\n",
    "\n",
    "\n",
    "\n",
    "#------------- less important\n",
    "#plt.imshow(nd2[0])\n",
    "#plt.show()\n",
    "#photo_file = io.imread(file_name) #open file\n",
    "#photo_float = skimage.img_as_float(photo_file)\n",
    "\n",
    "\n",
    "#io.imshow(photo_float, cmap=cm.gray)\n",
    "\n",
    "#io.show()\n"
   ]
  },
  {
   "cell_type": "code",
   "execution_count": null,
   "metadata": {
    "collapsed": true
   },
   "outputs": [],
   "source": []
  },
  {
   "cell_type": "code",
   "execution_count": null,
   "metadata": {
    "collapsed": true
   },
   "outputs": [],
   "source": []
  }
 ],
 "metadata": {
  "kernelspec": {
   "display_name": "Python 2",
   "language": "python",
   "name": "python2"
  },
  "language_info": {
   "codemirror_mode": {
    "name": "ipython",
    "version": 2
   },
   "file_extension": ".py",
   "mimetype": "text/x-python",
   "name": "python",
   "nbconvert_exporter": "python",
   "pygments_lexer": "ipython2",
   "version": "2.7.12"
  }
 },
 "nbformat": 4,
 "nbformat_minor": 1
}
